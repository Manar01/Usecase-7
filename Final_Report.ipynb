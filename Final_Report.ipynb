{
 "cells": [
  {
   "cell_type": "markdown",
   "metadata": {},
   "source": [
    "# Final Report - Machine Learning Project\n",
    "\n",
    "\n",
    "## Step 1: Loading the Data\n",
    "We start by importing the necessary libraries and loading the dataset.\n"
   ]
  },
  {
   "cell_type": "code",
   "execution_count": null,
   "metadata": {},
   "outputs": [],
   "source": [
    "# Ignore warnings for cleaner output\n",
    "import warnings\n",
    "warnings.filterwarnings(\"ignore\")\n",
    "\n",
    "# Importing necessary libraries\n",
    "import pandas as pd\n",
    "import numpy as np\n",
    "import matplotlib.pyplot as plt\n",
    "import seaborn as sns\n",
    "import joblib\n",
    "\n",
    "# Load the dataset\n",
    "print(\"Loading dataset from file...\")\n",
    "data_path = \"final_data.csv\"  # Ensure this path is correct\n",
    "data = pd.read_csv(data_path)\n",
    "print(\"Data Loaded Successfully!\")\n",
    "\n",
    "# Display dataset info\n",
    "print(\"\\nDataset Info:\")\n",
    "data.info()\n",
    "print(\"\\nFirst 5 Rows:\")\n",
    "print(data.head())"
   ]
  },
  {
   "cell_type": "markdown",
   "metadata": {},
   "source": [
    "##  Step 2: Exploratory Data Analysis (EDA)\n",
    "Before we train our models, we analyze the dataset to check for:\n",
    "- **Missing values**\n",
    "- **Duplicates**\n",
    "- **Outliers**\n",
    "- **Feature correlations**"
   ]
  },
  {
   "cell_type": "code",
   "execution_count": null,
   "metadata": {},
   "outputs": [],
   "source": [
    "# Checking for missing values\n",
    "print(\"\\nMissing Values:\")\n",
    "print(data.isnull().sum())\n",
    "\n",
    "# Checking for duplicates\n",
    "print(\"\\nDuplicate Rows:\", data.duplicated().sum())\n",
    "\n",
    "# Checking summary statistics\n",
    "print(\"\\nSummary Statistics:\")\n",
    "print(data.describe())\n",
    "\n",
    "# Checking correlation between features\n",
    "plt.figure(figsize=(12, 6))\n",
    "sns.heatmap(data.corr(), annot=True, cmap=\"coolwarm\", fmt=\".2f\")\n",
    "plt.title(\"Feature Correlation Matrix\")\n",
    "plt.show()\n"
   ]
  },
  {
   "cell_type": "markdown",
   "metadata": {},
   "source": [
    "##  Step 3: Data Preprocessing\n",
    "### Handling missing values, duplicates, and encoding categorical variables.\n"
   ]
  },
  {
   "cell_type": "code",
   "execution_count": null,
   "metadata": {},
   "outputs": [],
   "source": [
    "# Drop duplicates if any\n",
    "if data.duplicated().sum() > 0:\n",
    "    data.drop_duplicates(inplace=True)\n",
    "    print(\"\\nNo duplicates to remove!\")\n",
    "\n",
    "# Encoding categorical features\n",
    "print(\"\\nEncoding categorical variables...\")\n",
    "data = pd.get_dummies(data, drop_first=True)\n",
    "\n",
    "# Save cleaned dataset\n",
    "cleaned_data_path = \"cleaned_final_data.csv\"\n",
    "data.to_csv(cleaned_data_path, index=False)\n",
    "print(f\"Cleaned data saved at: {cleaned_data_path}\")\n"
   ]
  },
  {
   "cell_type": "markdown",
   "metadata": {},
   "source": [
    "## Step 4: Regression Model Training\n",
    "\n"
   ]
  },
  {
   "cell_type": "code",
   "execution_count": null,
   "metadata": {},
   "outputs": [],
   "source": [
    "# Import ML libraries\n",
    "from sklearn.model_selection import train_test_split, GridSearchCV\n",
    "from sklearn.preprocessing import StandardScaler\n",
    "from sklearn.linear_model import LinearRegression, Ridge, Lasso\n",
    "from sklearn.metrics import mean_absolute_error, mean_squared_error, r2_score\n",
    "\n",
    "# Define features and target variable\n",
    "target = \"market_value\"  # Modify based on dataset\n",
    "X = data.drop(columns=[target])\n",
    "y = data[target]\n",
    "\n",
    "# Train-test split\n",
    "X_train, X_test, y_train, y_test = train_test_split(X, y, test_size=0.2, random_state=42)\n",
    "\n",
    "# Standardize features\n",
    "scaler = StandardScaler()\n",
    "X_train_scaled = scaler.fit_transform(X_train)\n",
    "X_test_scaled = scaler.transform(X_test)\n",
    "\n",
    "# Train a Linear Regression model\n",
    "lin_reg = LinearRegression()\n",
    "lin_reg.fit(X_train_scaled, y_train)\n",
    "\n",
    "# Predictions\n",
    "y_pred = lin_reg.predict(X_test_scaled)\n",
    "\n",
    "# Model Evaluation\n",
    "print(\"MAE:\", mean_absolute_error(y_test, y_pred))\n",
    "print(\"RMSE:\", np.sqrt(mean_squared_error(y_test, y_pred)))\n",
    "print(\"R² Score:\", r2_score(y_test, y_pred))\n"
   ]
  },
  {
   "cell_type": "markdown",
   "metadata": {},
   "source": [
    "## Step 5: Classification Model Training"
   ]
  },
  {
   "cell_type": "code",
   "execution_count": null,
   "metadata": {},
   "outputs": [],
   "source": [
    "from sklearn.linear_model import LogisticRegression\n",
    "from sklearn.tree import DecisionTreeClassifier\n",
    "from sklearn.ensemble import RandomForestClassifier\n",
    "from sklearn.svm import SVC\n",
    "from sklearn.neighbors import KNeighborsClassifier\n",
    "from sklearn.metrics import accuracy_score, classification_report\n",
    "\n",
    "# Define Classification Target Variable\n",
    "target_classification = \"market_value_category\"\n",
    "X_class = data.drop(columns=[target_classification])\n",
    "y_class = data[target_classification]\n",
    "\n",
    "# Train-test split\n",
    "X_train_c, X_test_c, y_train_c, y_test_c = train_test_split(X_class, y_class, test_size=0.2, random_state=42)\n",
    "\n",
    "# Standardizing features\n",
    "X_train_c_scaled = scaler.fit_transform(X_train_c)\n",
    "X_test_c_scaled = scaler.transform(X_test_c)\n",
    "\n",
    "# Train Random Forest Classifier\n",
    "rf_clf = RandomForestClassifier(n_estimators=100, max_depth=10, random_state=42)\n",
    "rf_clf.fit(X_train_c_scaled, y_train_c)\n",
    "\n",
    "# Predictions\n",
    "y_pred_rf = rf_clf.predict(X_test_c_scaled)"
   ]
  },
  {
   "cell_type": "code",
   "execution_count": null,
   "metadata": {},
   "outputs": [],
   "source": [
    "# Classification Evaluation\n",
    "print(classification_report(y_test_c, y_pred_rf))\n",
    "print(\"Accuracy:\", accuracy_score(y_test_c, y_pred_rf))"
   ]
  },
  {
   "cell_type": "markdown",
   "metadata": {},
   "source": [
    "## Step 6: K-Means Clustering"
   ]
  },
  {
   "cell_type": "code",
   "execution_count": null,
   "metadata": {},
   "outputs": [],
   "source": [
    "from sklearn.cluster import KMeans\n",
    "from sklearn.metrics import silhouette_score\n",
    "\n",
    "# Drop target variable for clustering\n",
    "X_cluster = data.drop(columns=[\"market_value\", \"market_value_category\"], errors='ignore')\n",
    "\n",
    "# Standardize data\n",
    "X_cluster_scaled = scaler.fit_transform(X_cluster)\n",
    "\n",
    "# Find the optimal k using the Elbow Method\n",
    "wcss = []  # Within-Cluster Sum of Squares\n",
    "for k in range(1, 15):\n",
    "    kmeans = KMeans(n_clusters=k, init='k-means++', max_iter=300, n_init=10, random_state=42)\n",
    "    kmeans.fit(X_cluster_scaled)\n",
    "    wcss.append(kmeans.inertia_)\n",
    "\n",
    "# Plot Elbow Method\n",
    "plt.figure(figsize=(8, 4))\n",
    "plt.plot(range(1, 15), wcss, marker='o', linestyle='--', color='b')\n",
    "plt.xlabel(\"Number of Clusters (k)\")\n",
    "plt.ylabel(\"WCSS (Within-Cluster Sum of Squares)\")\n",
    "plt.title(\"Elbow Method to Find Optimal k\")\n",
    "plt.show()"
   ]
  },
  {
   "cell_type": "markdown",
   "metadata": {},
   "source": [
    "## Step 7: Best Model Selection & Deployment\n"
   ]
  },
  {
   "cell_type": "code",
   "execution_count": null,
   "metadata": {},
   "outputs": [],
   "source": [
    "# Save models for deployment\n",
    "joblib.dump(lin_reg, \"linear_regression.pkl\")\n",
    "joblib.dump(rf_clf, \"random_forest.pkl\")\n",
    "print(\"✅ Models saved successfully!\")"
   ]
  },
  {
   "cell_type": "code",
   "execution_count": null,
   "metadata": {},
   "outputs": [],
   "source": [
    "# Save clustered dataset\n",
    "data[\"Cluster\"] = kmeans.fit_predict(X_cluster_scaled)\n",
    "data.to_csv(\"clustered_players.csv\", index=False)\n",
    "print(\"✅ Clustered data saved successfully!\")"
   ]
  }
 ],
 "metadata": {
  "kernelspec": {
   "display_name": "base",
   "language": "python",
   "name": "python3"
  },
  "language_info": {
   "codemirror_mode": {
    "name": "ipython",
    "version": 3
   },
   "file_extension": ".py",
   "mimetype": "text/x-python",
   "name": "python",
   "nbconvert_exporter": "python",
   "pygments_lexer": "ipython3",
   "version": "3.9.7"
  }
 },
 "nbformat": 4,
 "nbformat_minor": 2
}
